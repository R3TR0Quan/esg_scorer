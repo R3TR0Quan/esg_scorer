{
 "cells": [
  {
   "cell_type": "markdown",
   "metadata": {},
   "source": [
    "# UNIFI ESG Scorer "
   ]
  },
  {
   "cell_type": "code",
   "execution_count": 4,
   "metadata": {},
   "outputs": [],
   "source": [
    "# Importations\n",
    "import pandas as pd"
   ]
  },
  {
   "cell_type": "code",
   "execution_count": 6,
   "metadata": {},
   "outputs": [],
   "source": [
    "import pandas as pd\n",
    "\n",
    "am_syn_df = pd.read_csv('data/ActivityMetricsSynonyms.csv')"
   ]
  },
  {
   "cell_type": "code",
   "execution_count": 7,
   "metadata": {},
   "outputs": [
    {
     "data": {
      "text/html": [
       "<div>\n",
       "<style scoped>\n",
       "    .dataframe tbody tr th:only-of-type {\n",
       "        vertical-align: middle;\n",
       "    }\n",
       "\n",
       "    .dataframe tbody tr th {\n",
       "        vertical-align: top;\n",
       "    }\n",
       "\n",
       "    .dataframe thead th {\n",
       "        text-align: right;\n",
       "    }\n",
       "</style>\n",
       "<table border=\"1\" class=\"dataframe\">\n",
       "  <thead>\n",
       "    <tr style=\"text-align: right;\">\n",
       "      <th></th>\n",
       "      <th>AMKEY</th>\n",
       "      <th>Group</th>\n",
       "      <th>ActivityMetric</th>\n",
       "      <th>ClientMetric</th>\n",
       "    </tr>\n",
       "  </thead>\n",
       "  <tbody>\n",
       "    <tr>\n",
       "      <th>0</th>\n",
       "      <td>7</td>\n",
       "      <td>Impala</td>\n",
       "      <td>Air emissions of the following pollutants: (2)...</td>\n",
       "      <td>Total indirect Nox</td>\n",
       "    </tr>\n",
       "    <tr>\n",
       "      <th>1</th>\n",
       "      <td>7</td>\n",
       "      <td>Sasol</td>\n",
       "      <td>Air emissions of the following pollutants: (2)...</td>\n",
       "      <td>Nitrogen oxides (NOx) (kilotons)</td>\n",
       "    </tr>\n",
       "    <tr>\n",
       "      <th>2</th>\n",
       "      <td>8</td>\n",
       "      <td>Sasol</td>\n",
       "      <td>Air emissions of the following pollutants: (3)...</td>\n",
       "      <td>Sulphur oxides (SOx ) (kilotons)</td>\n",
       "    </tr>\n",
       "    <tr>\n",
       "      <th>3</th>\n",
       "      <td>8</td>\n",
       "      <td>Ssw</td>\n",
       "      <td>Air emissions of the following pollutants: (3)...</td>\n",
       "      <td>SO2 emissions</td>\n",
       "    </tr>\n",
       "    <tr>\n",
       "      <th>4</th>\n",
       "      <td>8</td>\n",
       "      <td>Impala</td>\n",
       "      <td>Air emissions of the following pollutants: (3)...</td>\n",
       "      <td>Total direct SO2 + Total indirect SO2</td>\n",
       "    </tr>\n",
       "  </tbody>\n",
       "</table>\n",
       "</div>"
      ],
      "text/plain": [
       "   AMKEY   Group                                     ActivityMetric  \\\n",
       "0      7  Impala  Air emissions of the following pollutants: (2)...   \n",
       "1      7   Sasol  Air emissions of the following pollutants: (2)...   \n",
       "2      8   Sasol  Air emissions of the following pollutants: (3)...   \n",
       "3      8     Ssw  Air emissions of the following pollutants: (3)...   \n",
       "4      8  Impala  Air emissions of the following pollutants: (3)...   \n",
       "\n",
       "                            ClientMetric  \n",
       "0                     Total indirect Nox  \n",
       "1       Nitrogen oxides (NOx) (kilotons)  \n",
       "2       Sulphur oxides (SOx ) (kilotons)  \n",
       "3                          SO2 emissions  \n",
       "4  Total direct SO2 + Total indirect SO2  "
      ]
     },
     "execution_count": 7,
     "metadata": {},
     "output_type": "execute_result"
    }
   ],
   "source": [
    "am_syn_df.head()"
   ]
  },
  {
   "cell_type": "code",
   "execution_count": 9,
   "metadata": {},
   "outputs": [
    {
     "data": {
      "text/html": [
       "<div>\n",
       "<style scoped>\n",
       "    .dataframe tbody tr th:only-of-type {\n",
       "        vertical-align: middle;\n",
       "    }\n",
       "\n",
       "    .dataframe tbody tr th {\n",
       "        vertical-align: top;\n",
       "    }\n",
       "\n",
       "    .dataframe thead th {\n",
       "        text-align: right;\n",
       "    }\n",
       "</style>\n",
       "<table border=\"1\" class=\"dataframe\">\n",
       "  <thead>\n",
       "    <tr style=\"text-align: right;\">\n",
       "      <th></th>\n",
       "      <th>ID</th>\n",
       "      <th>File Name</th>\n",
       "    </tr>\n",
       "  </thead>\n",
       "  <tbody>\n",
       "    <tr>\n",
       "      <th>0</th>\n",
       "      <td>Oceana1.pdf</td>\n",
       "      <td>Oceana_Group_Sustainability_Report_2022.pdf</td>\n",
       "    </tr>\n",
       "    <tr>\n",
       "      <th>1</th>\n",
       "      <td>Ssw.pdf</td>\n",
       "      <td>ssw-IR22.pdf</td>\n",
       "    </tr>\n",
       "    <tr>\n",
       "      <th>2</th>\n",
       "      <td>Sasol.pdf</td>\n",
       "      <td>SASOL Sustainability Report 2023 20-09_0.pdf</td>\n",
       "    </tr>\n",
       "    <tr>\n",
       "      <th>3</th>\n",
       "      <td>Impala.pdf</td>\n",
       "      <td>ESG-spreads.pdf</td>\n",
       "    </tr>\n",
       "    <tr>\n",
       "      <th>4</th>\n",
       "      <td>Clicks.pdf</td>\n",
       "      <td>Clicks-Sustainability-Report-2022.pdf</td>\n",
       "    </tr>\n",
       "    <tr>\n",
       "      <th>5</th>\n",
       "      <td>Oceana2.pdf</td>\n",
       "      <td>Oceana_ESG_Databook_FY2022.pdf</td>\n",
       "    </tr>\n",
       "    <tr>\n",
       "      <th>6</th>\n",
       "      <td>Uct2.pdf</td>\n",
       "      <td>afs2021.pdf</td>\n",
       "    </tr>\n",
       "    <tr>\n",
       "      <th>7</th>\n",
       "      <td>Picknpay.pdf</td>\n",
       "      <td>picknpay-esg-report-spreads-2023.pdf</td>\n",
       "    </tr>\n",
       "    <tr>\n",
       "      <th>8</th>\n",
       "      <td>Distell.pdf</td>\n",
       "      <td>DISTELL ESG Appendix 2022.pdf</td>\n",
       "    </tr>\n",
       "    <tr>\n",
       "      <th>9</th>\n",
       "      <td>Uct1.pdf</td>\n",
       "      <td>UCT_Carbon_Footprint_Report_2020-2021.pdf</td>\n",
       "    </tr>\n",
       "    <tr>\n",
       "      <th>10</th>\n",
       "      <td>Absa.pdf</td>\n",
       "      <td>2022-Absa-Group-limited-Environmental-Social-a...</td>\n",
       "    </tr>\n",
       "    <tr>\n",
       "      <th>11</th>\n",
       "      <td>Tongaat.pdf</td>\n",
       "      <td>2021ESG.pdf</td>\n",
       "    </tr>\n",
       "  </tbody>\n",
       "</table>\n",
       "</div>"
      ],
      "text/plain": [
       "              ID                                          File Name\n",
       "0    Oceana1.pdf        Oceana_Group_Sustainability_Report_2022.pdf\n",
       "1        Ssw.pdf                                       ssw-IR22.pdf\n",
       "2      Sasol.pdf       SASOL Sustainability Report 2023 20-09_0.pdf\n",
       "3     Impala.pdf                                    ESG-spreads.pdf\n",
       "4     Clicks.pdf              Clicks-Sustainability-Report-2022.pdf\n",
       "5    Oceana2.pdf                     Oceana_ESG_Databook_FY2022.pdf\n",
       "6       Uct2.pdf                                        afs2021.pdf\n",
       "7   Picknpay.pdf               picknpay-esg-report-spreads-2023.pdf\n",
       "8    Distell.pdf                      DISTELL ESG Appendix 2022.pdf\n",
       "9       Uct1.pdf          UCT_Carbon_Footprint_Report_2020-2021.pdf\n",
       "10      Absa.pdf  2022-Absa-Group-limited-Environmental-Social-a...\n",
       "11   Tongaat.pdf                                        2021ESG.pdf"
      ]
     },
     "execution_count": 9,
     "metadata": {},
     "output_type": "execute_result"
    }
   ],
   "source": [
    "pdf_names_df = pd.read_csv('data/PDFnames.csv')\n",
    "pdf_names_df\n"
   ]
  },
  {
   "cell_type": "markdown",
   "metadata": {},
   "source": [
    "Read all csv files in data/ and display head() results in separate cells"
   ]
  },
  {
   "cell_type": "code",
   "execution_count": null,
   "metadata": {},
   "outputs": [],
   "source": []
  }
 ],
 "metadata": {
  "kernelspec": {
   "display_name": "venv",
   "language": "python",
   "name": "python3"
  },
  "language_info": {
   "codemirror_mode": {
    "name": "ipython",
    "version": 3
   },
   "file_extension": ".py",
   "mimetype": "text/x-python",
   "name": "python",
   "nbconvert_exporter": "python",
   "pygments_lexer": "ipython3",
   "version": "3.9.16"
  }
 },
 "nbformat": 4,
 "nbformat_minor": 2
}
